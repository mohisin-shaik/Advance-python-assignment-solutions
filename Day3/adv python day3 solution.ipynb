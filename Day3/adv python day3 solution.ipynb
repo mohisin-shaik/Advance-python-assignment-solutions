{
 "cells": [
  {
   "cell_type": "code",
   "execution_count": 1,
   "metadata": {},
   "outputs": [
    {
     "name": "stdout",
     "output_type": "stream",
     "text": [
      "[1, 1, 1, 1, 2, 2, 2, 3, 3, 3, 21, 24, 0, 0, 0, 0]\n"
     ]
    }
   ],
   "source": [
    "#QUESTION2\n",
    "list1=[1,2,3,0,2,3,0,1,24,0,1,3,21,0,1,2]\n",
    "count=0\n",
    "for each in list1:\n",
    "    if each==0:\n",
    "        count+=1\n",
    "        list1.remove(each)\n",
    "        continue\n",
    "list1.sort()\n",
    "for i in range(count):\n",
    "    list1.append(0)\n",
    "print (list1)"
   ]
  },
  {
   "cell_type": "code",
   "execution_count": 2,
   "metadata": {},
   "outputs": [
    {
     "name": "stdout",
     "output_type": "stream",
     "text": [
      "enter the number which has to find3\n",
      "3 has occured 5 times\n"
     ]
    }
   ],
   "source": [
    "#QUESTION1\n",
    "n=int(input(\"enter the number which has to find\"))\n",
    "list1=[1,2,3,4,3,2,5,3,4,6,3,7,8,2,3]\n",
    "count=0\n",
    "for each in list1:\n",
    "    if each==3:\n",
    "        count+=1\n",
    "print(n,\"has occured\",count,\"times\")"
   ]
  },
  {
   "cell_type": "code",
   "execution_count": 1,
   "metadata": {},
   "outputs": [
    {
     "name": "stdout",
     "output_type": "stream",
     "text": [
      "['192.168.10.4', '192.168.10.9', '192.168.10.11', '192.168.10.35']\n"
     ]
    }
   ],
   "source": [
    "#QUESTION3\n",
    "ip = [\"192.168.10.9\", \"192.168.10.4\", \"192.168.10.11\", \"192.168.10.35\"]\n",
    "def fun1(ip):\n",
    "    a=ip.rsplit(\".\",1)[-1]\n",
    "    return int(a)\n",
    "ip.sort(key=fun1)\n",
    "print(ip)"
   ]
  },
  {
   "cell_type": "code",
   "execution_count": 4,
   "metadata": {},
   "outputs": [
    {
     "name": "stdout",
     "output_type": "stream",
     "text": [
      "[(9, 1), (10, 4), (10, 4), (9, 5), (90, 3)]\n"
     ]
    }
   ],
   "source": [
    "#question4\n",
    "list12=[(10,4),(90,3),(9,1),(10,4),(9,5)]\n",
    "def fun1(list12):\n",
    "    return list12[0]+list12[1]\n",
    "list12.sort(key=fun1)\n",
    "print(list12)"
   ]
  },
  {
   "cell_type": "code",
   "execution_count": null,
   "metadata": {},
   "outputs": [],
   "source": []
  }
 ],
 "metadata": {
  "kernelspec": {
   "display_name": "Python 3",
   "language": "python",
   "name": "python3"
  },
  "language_info": {
   "codemirror_mode": {
    "name": "ipython",
    "version": 3
   },
   "file_extension": ".py",
   "mimetype": "text/x-python",
   "name": "python",
   "nbconvert_exporter": "python",
   "pygments_lexer": "ipython3",
   "version": "3.7.6"
  }
 },
 "nbformat": 4,
 "nbformat_minor": 4
}
